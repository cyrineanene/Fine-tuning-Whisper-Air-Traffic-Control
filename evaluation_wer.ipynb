{
 "cells": [
  {
   "cell_type": "code",
   "execution_count": 1,
   "id": "46f204c6",
   "metadata": {},
   "outputs": [
    {
     "name": "stdout",
     "output_type": "stream",
     "text": [
      "Requirement already satisfied: evaluate in c:\\users\\cyrine.anene_amaris\\documents\\whisper_fine_tuned\\fine-tuning-whisper-air-traffic-control\\venv\\lib\\site-packages (0.4.3)\n",
      "Collecting jiwer\n",
      "  Downloading jiwer-3.1.0-py3-none-any.whl.metadata (2.6 kB)\n",
      "Requirement already satisfied: datasets>=2.0.0 in c:\\users\\cyrine.anene_amaris\\documents\\whisper_fine_tuned\\fine-tuning-whisper-air-traffic-control\\venv\\lib\\site-packages (from evaluate) (3.6.0)\n",
      "Requirement already satisfied: numpy>=1.17 in c:\\users\\cyrine.anene_amaris\\documents\\whisper_fine_tuned\\fine-tuning-whisper-air-traffic-control\\venv\\lib\\site-packages (from evaluate) (2.2.6)\n",
      "Requirement already satisfied: dill in c:\\users\\cyrine.anene_amaris\\documents\\whisper_fine_tuned\\fine-tuning-whisper-air-traffic-control\\venv\\lib\\site-packages (from evaluate) (0.3.8)\n",
      "Requirement already satisfied: pandas in c:\\users\\cyrine.anene_amaris\\documents\\whisper_fine_tuned\\fine-tuning-whisper-air-traffic-control\\venv\\lib\\site-packages (from evaluate) (2.2.3)\n",
      "Requirement already satisfied: requests>=2.19.0 in c:\\users\\cyrine.anene_amaris\\documents\\whisper_fine_tuned\\fine-tuning-whisper-air-traffic-control\\venv\\lib\\site-packages (from evaluate) (2.32.3)\n",
      "Requirement already satisfied: tqdm>=4.62.1 in c:\\users\\cyrine.anene_amaris\\documents\\whisper_fine_tuned\\fine-tuning-whisper-air-traffic-control\\venv\\lib\\site-packages (from evaluate) (4.67.1)\n",
      "Requirement already satisfied: xxhash in c:\\users\\cyrine.anene_amaris\\documents\\whisper_fine_tuned\\fine-tuning-whisper-air-traffic-control\\venv\\lib\\site-packages (from evaluate) (3.5.0)\n",
      "Requirement already satisfied: multiprocess in c:\\users\\cyrine.anene_amaris\\documents\\whisper_fine_tuned\\fine-tuning-whisper-air-traffic-control\\venv\\lib\\site-packages (from evaluate) (0.70.16)\n",
      "Requirement already satisfied: fsspec>=2021.05.0 in c:\\users\\cyrine.anene_amaris\\documents\\whisper_fine_tuned\\fine-tuning-whisper-air-traffic-control\\venv\\lib\\site-packages (from fsspec[http]>=2021.05.0->evaluate) (2025.3.0)\n",
      "Requirement already satisfied: huggingface-hub>=0.7.0 in c:\\users\\cyrine.anene_amaris\\documents\\whisper_fine_tuned\\fine-tuning-whisper-air-traffic-control\\venv\\lib\\site-packages (from evaluate) (0.32.3)\n",
      "Requirement already satisfied: packaging in c:\\users\\cyrine.anene_amaris\\documents\\whisper_fine_tuned\\fine-tuning-whisper-air-traffic-control\\venv\\lib\\site-packages (from evaluate) (25.0)\n",
      "Collecting click>=8.1.8 (from jiwer)\n",
      "  Downloading click-8.2.1-py3-none-any.whl.metadata (2.5 kB)\n",
      "Collecting rapidfuzz>=3.9.7 (from jiwer)\n",
      "  Downloading rapidfuzz-3.13.0-cp313-cp313-win_amd64.whl.metadata (12 kB)\n",
      "Requirement already satisfied: colorama in c:\\users\\cyrine.anene_amaris\\documents\\whisper_fine_tuned\\fine-tuning-whisper-air-traffic-control\\venv\\lib\\site-packages (from click>=8.1.8->jiwer) (0.4.6)\n",
      "Requirement already satisfied: filelock in c:\\users\\cyrine.anene_amaris\\documents\\whisper_fine_tuned\\fine-tuning-whisper-air-traffic-control\\venv\\lib\\site-packages (from datasets>=2.0.0->evaluate) (3.18.0)\n",
      "Requirement already satisfied: pyarrow>=15.0.0 in c:\\users\\cyrine.anene_amaris\\documents\\whisper_fine_tuned\\fine-tuning-whisper-air-traffic-control\\venv\\lib\\site-packages (from datasets>=2.0.0->evaluate) (20.0.0)\n",
      "Requirement already satisfied: pyyaml>=5.1 in c:\\users\\cyrine.anene_amaris\\documents\\whisper_fine_tuned\\fine-tuning-whisper-air-traffic-control\\venv\\lib\\site-packages (from datasets>=2.0.0->evaluate) (6.0.2)\n",
      "Requirement already satisfied: aiohttp!=4.0.0a0,!=4.0.0a1 in c:\\users\\cyrine.anene_amaris\\documents\\whisper_fine_tuned\\fine-tuning-whisper-air-traffic-control\\venv\\lib\\site-packages (from fsspec[http]>=2021.05.0->evaluate) (3.12.6)\n",
      "Requirement already satisfied: typing-extensions>=3.7.4.3 in c:\\users\\cyrine.anene_amaris\\documents\\whisper_fine_tuned\\fine-tuning-whisper-air-traffic-control\\venv\\lib\\site-packages (from huggingface-hub>=0.7.0->evaluate) (4.13.2)\n",
      "Requirement already satisfied: charset-normalizer<4,>=2 in c:\\users\\cyrine.anene_amaris\\documents\\whisper_fine_tuned\\fine-tuning-whisper-air-traffic-control\\venv\\lib\\site-packages (from requests>=2.19.0->evaluate) (3.4.2)\n",
      "Requirement already satisfied: idna<4,>=2.5 in c:\\users\\cyrine.anene_amaris\\documents\\whisper_fine_tuned\\fine-tuning-whisper-air-traffic-control\\venv\\lib\\site-packages (from requests>=2.19.0->evaluate) (3.10)\n",
      "Requirement already satisfied: urllib3<3,>=1.21.1 in c:\\users\\cyrine.anene_amaris\\documents\\whisper_fine_tuned\\fine-tuning-whisper-air-traffic-control\\venv\\lib\\site-packages (from requests>=2.19.0->evaluate) (2.4.0)\n",
      "Requirement already satisfied: certifi>=2017.4.17 in c:\\users\\cyrine.anene_amaris\\documents\\whisper_fine_tuned\\fine-tuning-whisper-air-traffic-control\\venv\\lib\\site-packages (from requests>=2.19.0->evaluate) (2025.4.26)\n",
      "Requirement already satisfied: python-dateutil>=2.8.2 in c:\\users\\cyrine.anene_amaris\\documents\\whisper_fine_tuned\\fine-tuning-whisper-air-traffic-control\\venv\\lib\\site-packages (from pandas->evaluate) (2.9.0.post0)\n",
      "Requirement already satisfied: pytz>=2020.1 in c:\\users\\cyrine.anene_amaris\\documents\\whisper_fine_tuned\\fine-tuning-whisper-air-traffic-control\\venv\\lib\\site-packages (from pandas->evaluate) (2025.2)\n",
      "Requirement already satisfied: tzdata>=2022.7 in c:\\users\\cyrine.anene_amaris\\documents\\whisper_fine_tuned\\fine-tuning-whisper-air-traffic-control\\venv\\lib\\site-packages (from pandas->evaluate) (2025.2)\n",
      "Requirement already satisfied: aiohappyeyeballs>=2.5.0 in c:\\users\\cyrine.anene_amaris\\documents\\whisper_fine_tuned\\fine-tuning-whisper-air-traffic-control\\venv\\lib\\site-packages (from aiohttp!=4.0.0a0,!=4.0.0a1->fsspec[http]>=2021.05.0->evaluate) (2.6.1)\n",
      "Requirement already satisfied: aiosignal>=1.1.2 in c:\\users\\cyrine.anene_amaris\\documents\\whisper_fine_tuned\\fine-tuning-whisper-air-traffic-control\\venv\\lib\\site-packages (from aiohttp!=4.0.0a0,!=4.0.0a1->fsspec[http]>=2021.05.0->evaluate) (1.3.2)\n",
      "Requirement already satisfied: attrs>=17.3.0 in c:\\users\\cyrine.anene_amaris\\documents\\whisper_fine_tuned\\fine-tuning-whisper-air-traffic-control\\venv\\lib\\site-packages (from aiohttp!=4.0.0a0,!=4.0.0a1->fsspec[http]>=2021.05.0->evaluate) (25.3.0)\n",
      "Requirement already satisfied: frozenlist>=1.1.1 in c:\\users\\cyrine.anene_amaris\\documents\\whisper_fine_tuned\\fine-tuning-whisper-air-traffic-control\\venv\\lib\\site-packages (from aiohttp!=4.0.0a0,!=4.0.0a1->fsspec[http]>=2021.05.0->evaluate) (1.6.0)\n",
      "Requirement already satisfied: multidict<7.0,>=4.5 in c:\\users\\cyrine.anene_amaris\\documents\\whisper_fine_tuned\\fine-tuning-whisper-air-traffic-control\\venv\\lib\\site-packages (from aiohttp!=4.0.0a0,!=4.0.0a1->fsspec[http]>=2021.05.0->evaluate) (6.4.4)\n",
      "Requirement already satisfied: propcache>=0.2.0 in c:\\users\\cyrine.anene_amaris\\documents\\whisper_fine_tuned\\fine-tuning-whisper-air-traffic-control\\venv\\lib\\site-packages (from aiohttp!=4.0.0a0,!=4.0.0a1->fsspec[http]>=2021.05.0->evaluate) (0.3.1)\n",
      "Requirement already satisfied: yarl<2.0,>=1.17.0 in c:\\users\\cyrine.anene_amaris\\documents\\whisper_fine_tuned\\fine-tuning-whisper-air-traffic-control\\venv\\lib\\site-packages (from aiohttp!=4.0.0a0,!=4.0.0a1->fsspec[http]>=2021.05.0->evaluate) (1.20.0)\n",
      "Requirement already satisfied: six>=1.5 in c:\\users\\cyrine.anene_amaris\\documents\\whisper_fine_tuned\\fine-tuning-whisper-air-traffic-control\\venv\\lib\\site-packages (from python-dateutil>=2.8.2->pandas->evaluate) (1.17.0)\n",
      "Downloading jiwer-3.1.0-py3-none-any.whl (22 kB)\n",
      "Downloading click-8.2.1-py3-none-any.whl (102 kB)\n",
      "Downloading rapidfuzz-3.13.0-cp313-cp313-win_amd64.whl (1.6 MB)\n",
      "   ---------------------------------------- 0.0/1.6 MB ? eta -:--:--\n",
      "   ---------------------------------------- 1.6/1.6 MB 10.2 MB/s eta 0:00:00\n",
      "Installing collected packages: rapidfuzz, click, jiwer\n",
      "Successfully installed click-8.2.1 jiwer-3.1.0 rapidfuzz-3.13.0\n",
      "Note: you may need to restart the kernel to use updated packages.\n"
     ]
    },
    {
     "name": "stderr",
     "output_type": "stream",
     "text": [
      "\n",
      "[notice] A new release of pip is available: 25.0.1 -> 25.1.1\n",
      "[notice] To update, run: python.exe -m pip install --upgrade pip\n"
     ]
    }
   ],
   "source": [
    "%pip install evaluate jiwer"
   ]
  },
  {
   "cell_type": "code",
   "execution_count": 2,
   "id": "f334b4e8",
   "metadata": {},
   "outputs": [
    {
     "name": "stderr",
     "output_type": "stream",
     "text": [
      "c:\\Users\\cyrine.anene_amaris\\Documents\\whisper_fine_tuned\\Fine-tuning-Whisper-Air-Traffic-Control\\venv\\Lib\\site-packages\\tqdm\\auto.py:21: TqdmWarning: IProgress not found. Please update jupyter and ipywidgets. See https://ipywidgets.readthedocs.io/en/stable/user_install.html\n",
      "  from .autonotebook import tqdm as notebook_tqdm\n"
     ]
    }
   ],
   "source": [
    "from datasets import load_dataset\n",
    "import matplotlib.pyplot as plt\n",
    "import numpy as np\n",
    "from IPython.display import Audio\n",
    "from scipy.signal import resample\n",
    "import torch\n",
    "from tqdm import tqdm\n",
    "from torch.utils.data import DataLoader\n",
    "\n",
    "\n",
    "from transformers import WhisperTokenizer\n",
    "from transformers import WhisperFeatureExtractor\n",
    "from transformers import WhisperForConditionalGeneration"
   ]
  },
  {
   "cell_type": "code",
   "execution_count": 3,
   "id": "406314f2",
   "metadata": {},
   "outputs": [
    {
     "name": "stderr",
     "output_type": "stream",
     "text": [
      "Downloading builder script: 100%|██████████| 4.49k/4.49k [00:00<00:00, 18.0MB/s]\n"
     ]
    }
   ],
   "source": [
    "import evaluate\n",
    "\n",
    "wer  = evaluate.load('wer')"
   ]
  },
  {
   "cell_type": "code",
   "execution_count": 4,
   "id": "c7a479bb",
   "metadata": {},
   "outputs": [
    {
     "name": "stderr",
     "output_type": "stream",
     "text": [
      "Generating train split: 1013 examples [00:01, 980.72 examples/s] \n"
     ]
    }
   ],
   "source": [
    "atco_asr_data = load_dataset('parquet',data_files=\"dataset/validation-00000-of-00002-7a5ea3756991bf72.parquet\")"
   ]
  },
  {
   "cell_type": "markdown",
   "id": "50837005",
   "metadata": {},
   "source": [
    "#### Num frequencies present"
   ]
  },
  {
   "cell_type": "markdown",
   "id": "24dff96a",
   "metadata": {},
   "source": [
    "This step is crucial for determining if it aligns with 16 000 or not."
   ]
  },
  {
   "cell_type": "code",
   "execution_count": 5,
   "id": "06830e10",
   "metadata": {},
   "outputs": [
    {
     "name": "stderr",
     "output_type": "stream",
     "text": [
      "100%|██████████| 1013/1013 [00:03<00:00, 336.64it/s]\n"
     ]
    },
    {
     "data": {
      "image/png": "[encoded data removed]",
      "text/plain": [
       "<Figure size 640x480 with 1 Axes>"
      ]
     },
     "metadata": {},
     "output_type": "display_data"
    }
   ],
   "source": [
    "sr_list=[]\n",
    "for sample in tqdm(atco_asr_data['train'],total=len(atco_asr_data['train'])):\n",
    "    sample_rate=sample['audio']['sampling_rate']\n",
    "    sr_list.append(sample_rate)\n",
    "\n",
    "plt.hist(sr_list)\n",
    "plt.show()"
   ]
  },
  {
   "cell_type": "markdown",
   "id": "58b05800",
   "metadata": {},
   "source": [
    "For this dataset, we will need to perform some downsampling from 32 000 to 16 000."
   ]
  },
  {
   "cell_type": "code",
   "execution_count": 6,
   "id": "c20c76b0",
   "metadata": {},
   "outputs": [],
   "source": [
    "from scipy.signal import resample\n",
    "\n",
    "def down_sample_audio(audio_original, original_sample_rate):\n",
    "    target_sample_rate = 16000\n",
    "\n",
    "    # Calculate the number of samples for the target sample rate\n",
    "    num_samples = int(len(audio_original) * target_sample_rate / original_sample_rate)\n",
    "\n",
    "    # Resample the audio array to the target sample rate\n",
    "    downsampled_audio = resample(audio_original, num_samples)\n",
    "\n",
    "    return downsampled_audio"
   ]
  },
  {
   "cell_type": "code",
   "execution_count": 7,
   "id": "ad9511db",
   "metadata": {},
   "outputs": [],
   "source": [
    "tokenizer = WhisperTokenizer.from_pretrained(\"openai/whisper-small\",language='english',task='transcribe')\n",
    "feature_extractor = WhisperFeatureExtractor.from_pretrained(\"openai/whisper-small\",language='english',task='transcribe')\n",
    "model = WhisperForConditionalGeneration.from_pretrained(\"openai/whisper-small\").to('cuda')"
   ]
  },
  {
   "cell_type": "code",
   "execution_count": 8,
   "id": "4053637d",
   "metadata": {},
   "outputs": [
    {
     "name": "stderr",
     "output_type": "stream",
     "text": [
      "  0%|          | 0/1013 [00:00<?, ?it/s]You have passed task=transcribe, but also have set `forced_decoder_ids` to [[1, None], [2, 50359]] which creates a conflict. `forced_decoder_ids` will be ignored in favor of task=transcribe.\n",
      "The attention mask is not set and cannot be inferred from input because pad token is same as eos token. As a consequence, you may observe unexpected behavior. Please pass your input's `attention_mask` to obtain reliable results.\n",
      "100%|██████████| 1013/1013 [07:04<00:00,  2.39it/s]\n"
     ]
    }
   ],
   "source": [
    "predictions=[]\n",
    "references=[]\n",
    "\n",
    "for sample in tqdm(atco_asr_data['train'],total=len(atco_asr_data['train'])):\n",
    "    audio=sample['audio']['array']\n",
    "    sample_rate=sample['audio']['sampling_rate']\n",
    "    text=sample['text']\n",
    "\n",
    "    audio = down_sample_audio(audio, sample_rate) # downsample the audio to 16000Hz for WHISPER\n",
    "\n",
    "    input_features = feature_extractor(\n",
    "    raw_speech=audio,\n",
    "    sampling_rate=16000,\n",
    "    return_tensors='pt',\n",
    "    padding=True).input_features\n",
    "\n",
    "    # Generate predictions with no gradient computation\n",
    "    with torch.no_grad():\n",
    "        op = model.generate(input_features.to('cuda'), language='english', task='transcribe')\n",
    "\n",
    "    # Decode predictions\n",
    "    text_preds = tokenizer.batch_decode(op, skip_special_tokens=True)\n",
    "\n",
    "    # Append batch predictions and references to the respective lists\n",
    "    predictions.extend(text_preds)\n",
    "    references.extend([text])"
   ]
  },
  {
   "cell_type": "code",
   "execution_count": 9,
   "id": "732b780f",
   "metadata": {},
   "outputs": [
    {
     "data": {
      "text/plain": [
       "(1013, 1013)"
      ]
     },
     "execution_count": 9,
     "metadata": {},
     "output_type": "execute_result"
    }
   ],
   "source": [
    "len(predictions),len(references)"
   ]
  },
  {
   "cell_type": "code",
   "execution_count": 10,
   "id": "27770bd4",
   "metadata": {},
   "outputs": [
    {
     "data": {
      "text/plain": [
       "90.40845187588387"
      ]
     },
     "execution_count": 10,
     "metadata": {},
     "output_type": "execute_result"
    }
   ],
   "source": [
    "wer.compute(predictions=predictions, references=references) * 100"
   ]
  },
  {
   "cell_type": "code",
   "execution_count": 11,
   "id": "92b50c2a",
   "metadata": {},
   "outputs": [
    {
     "data": {
      "text/plain": [
       "'algerie two zero seven three proceed direct to trasadingen and continue climb to level two seven zero '"
      ]
     },
     "execution_count": 11,
     "metadata": {},
     "output_type": "execute_result"
    }
   ],
   "source": [
    "text"
   ]
  },
  {
   "cell_type": "code",
   "execution_count": 12,
   "id": "56d8baaa",
   "metadata": {},
   "outputs": [
    {
     "data": {
      "text/plain": [
       "[\" I'll sherry 2073 Proceed direct to traceting and continue climb to level 270.\"]"
      ]
     },
     "execution_count": 12,
     "metadata": {},
     "output_type": "execute_result"
    }
   ],
   "source": [
    "text_preds"
   ]
  },
  {
   "cell_type": "markdown",
   "id": "6c77e117",
   "metadata": {},
   "source": [
    "***Results:*** 90% of WER, which is too large."
   ]
  }
 ],
 "metadata": {
  "kernelspec": {
   "display_name": "venv",
   "language": "python",
   "name": "python3"
  },
  "language_info": {
   "codemirror_mode": {
    "name": "ipython",
    "version": 3
   },
   "file_extension": ".py",
   "mimetype": "text/x-python",
   "name": "python",
   "nbconvert_exporter": "python",
   "pygments_lexer": "ipython3",
   "version": "3.13.3"
  }
 },
 "nbformat": 4,
 "nbformat_minor": 5
}
