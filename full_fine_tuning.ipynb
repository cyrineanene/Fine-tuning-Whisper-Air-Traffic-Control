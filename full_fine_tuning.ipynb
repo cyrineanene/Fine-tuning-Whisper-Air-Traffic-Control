{
 "cells": [
  {
   "cell_type": "code",
   "execution_count": 2,
   "id": "bec009bc",
   "metadata": {},
   "outputs": [
    {
     "name": "stderr",
     "output_type": "stream",
     "text": [
      "c:\\Users\\cyrine.anene_amaris\\Documents\\whisper_fine_tuned\\Fine-tuning-Whisper-Air-Traffic-Control\\venv\\Lib\\site-packages\\tqdm\\auto.py:21: TqdmWarning: IProgress not found. Please update jupyter and ipywidgets. See https://ipywidgets.readthedocs.io/en/stable/user_install.html\n",
      "  from .autonotebook import tqdm as notebook_tqdm\n"
     ]
    }
   ],
   "source": [
    "from datasets import load_dataset\n",
    "import matplotlib.pyplot as plt\n",
    "import numpy as np\n",
    "from IPython.display import Audio\n",
    "from scipy.signal import resample\n",
    "import torch\n",
    "from tqdm import tqdm\n",
    "from torch.utils.data import DataLoader\n",
    "\n",
    "\n",
    "from transformers import WhisperTokenizer\n",
    "from transformers import WhisperFeatureExtractor\n",
    "from transformers import WhisperForConditionalGeneration\n",
    "\n",
    "import evaluate\n",
    "\n",
    "wer  = evaluate.load('wer')\n",
    "\n",
    "from scipy.signal import resample\n",
    "\n",
    "def down_sample_audio(audio_original, original_sample_rate):\n",
    "    target_sample_rate = 16000\n",
    "\n",
    "    # Calculate the number of samples for the target sample rate\n",
    "    num_samples = int(len(audio_original) * target_sample_rate / original_sample_rate)\n",
    "\n",
    "    # Resample the audio array to the target sample rate\n",
    "    downsampled_audio = resample(audio_original, num_samples)\n",
    "\n",
    "    return downsampled_audio"
   ]
  },
  {
   "cell_type": "code",
   "execution_count": 3,
   "id": "f60be65d",
   "metadata": {},
   "outputs": [],
   "source": [
    "tokenizer = WhisperTokenizer.from_pretrained(\"openai/whisper-small\",language='english',task='transcribe')\n",
    "feature_extractor = WhisperFeatureExtractor.from_pretrained(\"openai/whisper-small\",language='english',task='transcribe')\n",
    "model = WhisperForConditionalGeneration.from_pretrained(\"openai/whisper-small\").to('cuda')"
   ]
  },
  {
   "cell_type": "code",
   "execution_count": 4,
   "id": "45da6652",
   "metadata": {},
   "outputs": [],
   "source": [
    "atco_asr_data = load_dataset('parquet',data_files=\"dataset/train-00000-of-00005-c6681348ac8543dc.parquet\")"
   ]
  },
  {
   "cell_type": "markdown",
   "id": "acf938f3",
   "metadata": {},
   "source": [
    "#### Maximum length of transription "
   ]
  },
  {
   "cell_type": "code",
   "execution_count": 5,
   "id": "706f5db2",
   "metadata": {},
   "outputs": [
    {
     "data": {
      "image/png": "[encoded data removed]",
      "text/plain": [
       "<Figure size 640x480 with 1 Axes>"
      ]
     },
     "metadata": {},
     "output_type": "display_data"
    }
   ],
   "source": [
    "list_of_transcription_lengths = []\n",
    "\n",
    "for sample in atco_asr_data['train']:\n",
    "    text = sample['text']\n",
    "    tokenized_text = tokenizer(text).input_ids\n",
    "    list_of_transcription_lengths.append(len(tokenized_text))\n",
    "    # break\n",
    "\n",
    "plt.hist(list_of_transcription_lengths)\n",
    "plt.show()"
   ]
  },
  {
   "cell_type": "markdown",
   "id": "2dac95f4",
   "metadata": {},
   "source": [
    "Because of this hist, we chose 60 as our transcription size. If < 60, then it is padded (-100) and if > 60 it is truncated."
   ]
  },
  {
   "cell_type": "markdown",
   "id": "89556469",
   "metadata": {},
   "source": [
    "#### Converting Dataset to Pytorch compatible format"
   ]
  },
  {
   "cell_type": "code",
   "execution_count": 6,
   "id": "338fd3b9",
   "metadata": {},
   "outputs": [],
   "source": [
    "class whisper_training_dataset(torch.utils.data.Dataset):\n",
    "    def __init__(self, dataset, max_len):\n",
    "        self.dataset = dataset\n",
    "        self.max_len = max_len\n",
    "        self.bos_token = model.config.decoder_start_token_id\n",
    "\n",
    "    def __len__(self):\n",
    "        return len(self.dataset)\n",
    "\n",
    "    def __getitem__(self, idx):\n",
    "        item = self.dataset[idx]\n",
    "\n",
    "        audio_data = down_sample_audio(item['audio'][\"array\"], item['audio'][\"sampling_rate\"])\n",
    "        input_features = feature_extractor(audio_data, sampling_rate=16000,return_tensors='pt').input_features[0]\n",
    "\n",
    "        # Process the transcription\n",
    "        transcription = item[\"text\"]\n",
    "\n",
    "        # Create labels\n",
    "        labels = tokenizer(transcription, padding=\"max_length\", max_length=self.max_len, truncation=True, return_tensors=\"pt\")\n",
    "        labels = labels[\"input_ids\"].masked_fill(labels['attention_mask'].ne(1), -100)\n",
    "        labels = labels[0][1:]\n",
    "\n",
    "\n",
    "        return {\n",
    "            \"input_features\": input_features,\n",
    "            \"labels\": labels\n",
    "        }"
   ]
  },
  {
   "cell_type": "code",
   "execution_count": 7,
   "id": "9fead137",
   "metadata": {},
   "outputs": [],
   "source": [
    "dataset = whisper_training_dataset(dataset=atco_asr_data['train'], max_len=60)\n",
    "\n",
    "train_dataloader = torch.utils.data.DataLoader(\n",
    "    dataset,\n",
    "    batch_size=8,  # Adjust batch size as needed\n",
    "    shuffle=True,  # Shuffle data during training\n",
    ")"
   ]
  },
  {
   "cell_type": "markdown",
   "id": "d9397057",
   "metadata": {},
   "source": [
    "#### Training Model"
   ]
  },
  {
   "cell_type": "code",
   "execution_count": 8,
   "id": "b42afeae",
   "metadata": {},
   "outputs": [],
   "source": [
    "def evaluation(model):\n",
    "\n",
    "    atco_asr_data = load_dataset('parquet',data_files=\"dataset/validation-00000-of-00002-7a5ea3756991bf72.parquet\")\n",
    "\n",
    "    model.eval()\n",
    "\n",
    "    predictions=[]\n",
    "    references=[]\n",
    "\n",
    "    for sample in tqdm(atco_asr_data['train'],total=len(atco_asr_data['train'])):\n",
    "        audio=sample['audio']['array']\n",
    "        sample_rate=sample['audio']['sampling_rate']\n",
    "        text=sample['text']\n",
    "\n",
    "        audio = down_sample_audio(audio, sample_rate) # downsample the audio to 16000Hz for WHISPER\n",
    "\n",
    "        input_features = feature_extractor(\n",
    "        raw_speech=audio,\n",
    "        sampling_rate=16000,\n",
    "        return_tensors='pt',\n",
    "        padding=True).input_features\n",
    "\n",
    "        # Generate predictions with no gradient computation\n",
    "        with torch.no_grad():\n",
    "            op = model.generate(input_features.to('cuda'), language='english', task='transcribe')\n",
    "\n",
    "        # Decode predictions\n",
    "        text_preds = tokenizer.batch_decode(op, skip_special_tokens=True)\n",
    "\n",
    "        # Append batch predictions and references to the respective lists\n",
    "        predictions.extend(text_preds)\n",
    "        references.extend([text])\n",
    "\n",
    "    WER = wer.compute(predictions=predictions, references=references) * 100\n",
    "\n",
    "    return WER"
   ]
  },
  {
   "cell_type": "code",
   "execution_count": 9,
   "id": "2bc905d5",
   "metadata": {},
   "outputs": [
    {
     "data": {
      "image/png": "[encoded data removed]",
      "text/plain": [
       "<Figure size 640x480 with 1 Axes>"
      ]
     },
     "metadata": {},
     "output_type": "display_data"
    },
    {
     "name": "stderr",
     "output_type": "stream",
     "text": [
      "100%|██████████| 1/1 [5:19:39<00:00, 19179.77s/it]\n"
     ]
    }
   ],
   "source": [
    "from IPython.display import clear_output\n",
    "\n",
    "device='cuda'\n",
    "\n",
    "optimizer=torch.optim.AdamW(model.parameters(), lr=1e-5)\n",
    "\n",
    "max_epochs=1\n",
    "\n",
    "running_wer=[]\n",
    "\n",
    "for epoch in tqdm(range(max_epochs)):\n",
    "    print(f\"Epoch {epoch}\")\n",
    "    i =0\n",
    "    for batch in train_dataloader:\n",
    "        i= i+ 1\n",
    "        print(f\"Bacth {i}\")\n",
    "        model.train()  # Set model to training mode\n",
    "\n",
    "        input_features, labels = batch[\"input_features\"].to(device), batch[\"labels\"].to(device)\n",
    "\n",
    "        # Forward pass\n",
    "        outputs = model(input_features, labels=labels)  # Assuming your model takes these inputs\n",
    "        loss = outputs.loss\n",
    "\n",
    "        # Backward pass and optimization\n",
    "        loss.backward()\n",
    "        optimizer.step()\n",
    "        optimizer.zero_grad()  # Reset gradients\n",
    "\n",
    "    running_wer.append(evaluation(model))\n",
    "    plt.plot(running_wer)\n",
    "    clear_output(wait=True)\n",
    "    plt.xlabel('epochs')\n",
    "    plt.ylabel('wer (%)')\n",
    "    plt.show()"
   ]
  },
  {
   "cell_type": "code",
   "execution_count": 10,
   "id": "39606157",
   "metadata": {},
   "outputs": [
    {
     "data": {
      "text/plain": [
       "[10.215456284834874]"
      ]
     },
     "execution_count": 10,
     "metadata": {},
     "output_type": "execute_result"
    }
   ],
   "source": [
    "running_wer"
   ]
  },
  {
   "cell_type": "code",
   "execution_count": null,
   "id": "a7f7b600",
   "metadata": {},
   "outputs": [],
   "source": [
    "model.load_state_dict(torch.load('finetuned_atco.pth', weights_only=True))# loading the model\n",
    "model.eval()\n",
    "model.to('cuda')"
   ]
  },
  {
   "cell_type": "code",
   "execution_count": null,
   "id": "123ec003",
   "metadata": {},
   "outputs": [],
   "source": [
    "model.eval()\n",
    "atco_asr_data = load_dataset('parquet',data_files=\"validation-00000-of-00002-7a5ea3756991bf72.parquet\")\n",
    "\n",
    "for idx in range(5):\n",
    "\n",
    "    target = atco_asr_data['train'][idx]['text']\n",
    "    audio_original = atco_asr_data['train'][idx]['audio']['array']\n",
    "\n",
    "    input_feature = feature_extractor(raw_speech=audio_original,\n",
    "                                    sampling_rate=16000,\n",
    "                                    return_tensors='pt').input_features\n",
    "\n",
    "    with torch.no_grad():\n",
    "        op = model.generate(input_feature.to('cuda'), language='english', task='transcribe')\n",
    "\n",
    "\n",
    "    text_pred =  tokenizer.batch_decode(op,skip_special_tokens=True )[0]\n",
    "\n",
    "    print(f'-------{idx}------')\n",
    "    print(f'true : {target} \\npred : {text_pred}')\n",
    "    print('\\n ')"
   ]
  }
 ],
 "metadata": {
  "kernelspec": {
   "display_name": "venv",
   "language": "python",
   "name": "python3"
  },
  "language_info": {
   "codemirror_mode": {
    "name": "ipython",
    "version": 3
   },
   "file_extension": ".py",
   "mimetype": "text/x-python",
   "name": "python",
   "nbconvert_exporter": "python",
   "pygments_lexer": "ipython3",
   "version": "3.13.3"
  }
 },
 "nbformat": 4,
 "nbformat_minor": 5
}
