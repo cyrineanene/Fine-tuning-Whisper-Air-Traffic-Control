{
 "cells": [
  {
   "cell_type": "code",
   "execution_count": 1,
   "id": "ce96b258",
   "metadata": {},
   "outputs": [
    {
     "name": "stderr",
     "output_type": "stream",
     "text": [
      "c:\\Users\\cyrine.anene_amaris\\Documents\\whisper_fine_tuned\\Fine-tuning-Whisper-Air-Traffic-Control\\venv\\Lib\\site-packages\\tqdm\\auto.py:21: TqdmWarning: IProgress not found. Please update jupyter and ipywidgets. See https://ipywidgets.readthedocs.io/en/stable/user_install.html\n",
      "  from .autonotebook import tqdm as notebook_tqdm\n"
     ]
    }
   ],
   "source": [
    "from datasets import load_dataset\n",
    "import matplotlib.pyplot as plt\n",
    "import numpy as np\n",
    "from IPython.display import Audio\n",
    "from scipy.signal import resample\n",
    "import torch\n",
    "from tqdm import tqdm\n",
    "from torch.utils.data import DataLoader\n",
    "\n",
    "\n",
    "from transformers import WhisperTokenizer\n",
    "from transformers import WhisperFeatureExtractor\n",
    "from transformers import WhisperForConditionalGeneration\n",
    "\n",
    "import evaluate\n",
    "#pip install jiwer\n",
    "\n",
    "from jiwer import cer\n",
    "\n",
    "\n",
    "\n",
    "def down_sample_audio(audio_original, original_sample_rate):\n",
    "    target_sample_rate = 16000\n",
    "\n",
    "    # Calculate the number of samples for the target sample rate\n",
    "    num_samples = int(len(audio_original) * target_sample_rate / original_sample_rate)\n",
    "\n",
    "    # Resample the audio array to the target sample rate\n",
    "    downsampled_audio = resample(audio_original, num_samples)\n",
    "\n",
    "    return downsampled_audio"
   ]
  },
  {
   "cell_type": "code",
   "execution_count": 2,
   "id": "7e2b8aaf",
   "metadata": {},
   "outputs": [],
   "source": [
    "tokenizer = WhisperTokenizer.from_pretrained(\"openai/whisper-small\",language='bengali',task='transcribe')\n",
    "feature_extractor = WhisperFeatureExtractor.from_pretrained(\"openai/whisper-small\",language='bengali',task='transcribe')\n",
    "model = WhisperForConditionalGeneration.from_pretrained(\"openai/whisper-small\").to('cuda')"
   ]
  },
  {
   "cell_type": "markdown",
   "id": "1b9caa6d",
   "metadata": {},
   "source": [
    "#### Verify if the tokenizer supports the target language"
   ]
  },
  {
   "cell_type": "code",
   "execution_count": 6,
   "id": "9be73bb0",
   "metadata": {},
   "outputs": [
    {
     "data": {
      "text/plain": [
       "'<|startoftranscript|><|bn|><|transcribe|><|notimestamps|>اهلا كيف الحال؟<|endoftext|>'"
      ]
     },
     "execution_count": 6,
     "metadata": {},
     "output_type": "execute_result"
    }
   ],
   "source": [
    "arabic_text = 'اهلا كيف الحال؟'\n",
    "\n",
    "tokenized_text = tokenizer(arabic_text)\n",
    "\n",
    "tokenizer.decode(tokenized_text.input_ids)"
   ]
  },
  {
   "cell_type": "markdown",
   "id": "975379be",
   "metadata": {},
   "source": [
    "This means that the tokenizer supports the arabic language."
   ]
  },
  {
   "cell_type": "code",
   "execution_count": 9,
   "id": "49d85a2d",
   "metadata": {},
   "outputs": [
    {
     "name": "stdout",
     "output_type": "stream",
     "text": [
      "Collecting python-dotenv\n",
      "  Downloading python_dotenv-1.1.0-py3-none-any.whl.metadata (24 kB)\n",
      "Downloading python_dotenv-1.1.0-py3-none-any.whl (20 kB)\n",
      "Installing collected packages: python-dotenv\n",
      "Successfully installed python-dotenv-1.1.0\n",
      "Note: you may need to restart the kernel to use updated packages.\n"
     ]
    },
    {
     "name": "stderr",
     "output_type": "stream",
     "text": [
      "\n",
      "[notice] A new release of pip is available: 25.0.1 -> 25.1.1\n",
      "[notice] To update, run: python.exe -m pip install --upgrade pip\n"
     ]
    }
   ],
   "source": [
    "%pip install python-dotenv"
   ]
  },
  {
   "cell_type": "code",
   "execution_count": 10,
   "id": "e1e5bdb0",
   "metadata": {},
   "outputs": [],
   "source": [
    "import os\n",
    "from dotenv import load_dotenv\n",
    "from huggingface_hub import HfFolder\n",
    "\n",
    "load_dotenv()\n",
    "hf_token = os.getenv(\"HF_TOKEN\")\n",
    "HfFolder.save_token(hf_token)\n"
   ]
  },
  {
   "cell_type": "code",
   "execution_count": 13,
   "id": "0a0e42c8",
   "metadata": {},
   "outputs": [
    {
     "name": "stderr",
     "output_type": "stream",
     "text": [
      "Reading metadata...: 28369it [00:00, 147717.67it/s]es/s]\n",
      "Generating train split: 28369 examples [00:11, 2491.55 examples/s]\n",
      "Reading metadata...: 10470it [00:00, 180675.16it/s]xamples/s]\n",
      "Generating validation split: 10470 examples [00:02, 3801.78 examples/s]\n",
      "Reading metadata...: 10480it [00:00, 186053.71it/s]s/s]\n",
      "Generating test split: 10480 examples [00:02, 3858.08 examples/s]\n",
      "Reading metadata...: 41628it [00:00, 162945.33it/s]es/s]\n",
      "Generating other split: 41628 examples [00:15, 2665.71 examples/s]\n",
      "Reading metadata...: 15108it [00:00, 167610.19it/s]examples/s]\n",
      "Generating invalidated split: 15108 examples [00:16, 909.09 examples/s] \n",
      "Reading metadata...: 78156it [00:00, 192605.78it/s]amples/s]\n",
      "Generating validated split: 78156 examples [00:33, 2354.58 examples/s]\n"
     ]
    }
   ],
   "source": [
    "from datasets import load_dataset,concatenate_datasets\n",
    "\n",
    "cv_17 = load_dataset(\"mozilla-foundation/common_voice_17_0\", \"ar\", split=[\"train\", \"test\"], trust_remote_code=True)"
   ]
  },
  {
   "cell_type": "code",
   "execution_count": 16,
   "id": "ac3643c1",
   "metadata": {},
   "outputs": [
    {
     "name": "stdout",
     "output_type": "stream",
     "text": [
      "Dataset({\n",
      "    features: ['client_id', 'path', 'audio', 'sentence', 'up_votes', 'down_votes', 'age', 'gender', 'accent', 'locale', 'segment', 'variant'],\n",
      "    num_rows: 38849\n",
      "})\n",
      "Dataset({\n",
      "    features: ['client_id', 'path', 'audio', 'sentence', 'up_votes', 'down_votes', 'age', 'gender', 'accent', 'locale', 'segment', 'variant'],\n",
      "    num_rows: 10480\n",
      "})\n"
     ]
    }
   ],
   "source": [
    "train_data = concatenate_datasets([cv_17[0],cv_17[1]])\n",
    "print(train_data)\n",
    "test_data = cv_17[1]\n",
    "print(test_data)"
   ]
  },
  {
   "cell_type": "code",
   "execution_count": 17,
   "id": "8e2a8352",
   "metadata": {},
   "outputs": [
    {
     "data": {
      "text/plain": [
       "{'client_id': '4423514fa51943a7a32bbed365f479687b108270c71c3b0691032ccbe7073cad303e3a9d84817c1b5b230d0531827b87a9e384b98fa2ccf8d892232e98b00f9b',\n",
       " 'path': 'C:\\\\Users\\\\cyrine.anene_amaris\\\\.cache\\\\huggingface\\\\datasets\\\\downloads\\\\extracted\\\\5725af6a6738d7803239449cb9608814f99d651181f318ddc45d6c27ac15a668\\\\ar_train_0/common_voice_ar_24032301.mp3',\n",
       " 'audio': {'path': 'C:\\\\Users\\\\cyrine.anene_amaris\\\\.cache\\\\huggingface\\\\datasets\\\\downloads\\\\extracted\\\\5725af6a6738d7803239449cb9608814f99d651181f318ddc45d6c27ac15a668\\\\ar_train_0/common_voice_ar_24032301.mp3',\n",
       "  'array': array([1.13686838e-13, 7.95807864e-13, 1.10844667e-12, ...,\n",
       "         1.49943362e-05, 2.72979014e-05, 1.81282685e-05], shape=(247104,)),\n",
       "  'sampling_rate': 48000},\n",
       " 'sentence': 'وما كان ربك ليهلك القرى بظلم وأهلها مصلحون',\n",
       " 'up_votes': 2,\n",
       " 'down_votes': 0,\n",
       " 'age': '',\n",
       " 'gender': '',\n",
       " 'accent': '',\n",
       " 'locale': 'ar',\n",
       " 'segment': '',\n",
       " 'variant': ''}"
      ]
     },
     "execution_count": 17,
     "metadata": {},
     "output_type": "execute_result"
    }
   ],
   "source": [
    "train_data[0]"
   ]
  },
  {
   "cell_type": "code",
   "execution_count": 18,
   "id": "28180941",
   "metadata": {},
   "outputs": [
    {
     "data": {
      "text/plain": [
       "{'input_ids': [50258, 50302, 50359, 50363, 2407, 15042, 25961, 12602, 3555, 4117, 32239, 3224, 23275, 25062, 2288, 7578, 4724, 19913, 19528, 36725, 3224, 1211, 11296, 3714, 36520, 5016, 11536, 50257], 'attention_mask': [1, 1, 1, 1, 1, 1, 1, 1, 1, 1, 1, 1, 1, 1, 1, 1, 1, 1, 1, 1, 1, 1, 1, 1, 1, 1, 1, 1]}"
      ]
     },
     "execution_count": 18,
     "metadata": {},
     "output_type": "execute_result"
    }
   ],
   "source": [
    "text = train_data[0]['sentence']\n",
    "tok_sentence = tokenizer(text)\n",
    "tok_sentence"
   ]
  },
  {
   "cell_type": "code",
   "execution_count": 20,
   "id": "bac98294",
   "metadata": {},
   "outputs": [
    {
     "name": "stdout",
     "output_type": "stream",
     "text": [
      "<|startoftranscript|><|bn|><|transcribe|><|notimestamps|>وما كان ربك ليهلك القرى بظلم وأهلها مصلحون\n"
     ]
    }
   ],
   "source": [
    "from IPython.display import clear_output\n",
    "import time\n",
    "\n",
    "for idx in range(len(tok_sentence.input_ids)):\n",
    "    print(tokenizer.decode(tok_sentence.input_ids[:idx]))\n",
    "    clear_output(wait=True)\n",
    "    time.sleep(.1)"
   ]
  },
  {
   "cell_type": "code",
   "execution_count": 21,
   "id": "73eb5816",
   "metadata": {},
   "outputs": [
    {
     "data": {
      "image/png": "[encoded data removed]",
      "text/plain": [
       "<Figure size 640x480 with 1 Axes>"
      ]
     },
     "metadata": {},
     "output_type": "display_data"
    }
   ],
   "source": [
    "list_of_transcription_lengths = []\n",
    "\n",
    "tokenized_text = tokenizer(train_data['sentence']).input_ids\n",
    "\n",
    "for text in tokenized_text:\n",
    "    list_of_transcription_lengths.append(len(text))\n",
    "    # break\n",
    "\n",
    "plt.hist(list_of_transcription_lengths)\n",
    "plt.xlabel(\"sentence length\")\n",
    "plt.ylabel(\"number of transcripts\")\n",
    "plt.show()"
   ]
  },
  {
   "cell_type": "code",
   "execution_count": 23,
   "id": "938acbdd",
   "metadata": {},
   "outputs": [
    {
     "name": "stdout",
     "output_type": "stream",
     "text": [
      "-------0------\n",
      "true : وما كان ربك ليهلك القرى بظلم وأهلها مصلحون \n",
      "pred :  وما كان رب كليف لك القراب دون مو أهلوام سلحون\n",
      "\n",
      " \n",
      "-------1------\n",
      "true : أقدر تعاونك معنا. \n",
      "pred :  أقدر تعاونك معنا\n",
      "\n",
      " \n",
      "-------2------\n",
      "true : وَلُوطًا إِذْ قَالَ لِقَوْمِهِ أَتَأْتُونَ الْفَاحِشَةَ مَا سَبَقَكُمْ بِهَا مِنْ أَحَدٍ مِنَ الْعَالَمِينَ \n",
      "pred :  والوطن اتقال لقومه اتأتون الفاحشة ما سبقكم بها من احد من العالمين\n",
      "\n",
      " \n",
      "-------3------\n",
      "true : فلما رأوا بأسنا قالوا آمنا بالله وحده وكفرنا بما كنا به مشركين \n",
      "pred :  فلما رأوا بأسنا قالوا أاملنا بالله وحده وكفرنا بما كنا به مش إكيم\n",
      "\n",
      " \n",
      "-------4------\n",
      "true : لمن هذا الكتاب؟ \n",
      "pred :  دي منحل الكتاب\n",
      "\n",
      " \n"
     ]
    }
   ],
   "source": [
    "import torch\n",
    "\n",
    "for idx in range(5):\n",
    "\n",
    "    target = train_data[idx]['sentence']\n",
    "    audio_original = train_data[idx]['audio']['array']\n",
    "    original_sample_rate = train_data[idx]['audio']['sampling_rate']\n",
    "\n",
    "    audio_16000 = down_sample_audio(audio_original, original_sample_rate)\n",
    "\n",
    "    input_feature = feature_extractor(raw_speech=audio_16000,\n",
    "                                    sampling_rate=16000,\n",
    "                                    return_tensors='pt').input_features\n",
    "\n",
    "    with torch.no_grad():\n",
    "        op = model.generate(input_feature.to('cuda'), language='arabic', task='transcribe')\n",
    "\n",
    "\n",
    "    text_pred =  tokenizer.batch_decode(op,skip_special_tokens=True )[0]\n",
    "\n",
    "    print(f'-------{idx}------')\n",
    "    print(f'true : {target} \\npred : {text_pred}')\n",
    "    print('\\n ')"
   ]
  },
  {
   "cell_type": "code",
   "execution_count": 25,
   "id": "d3d44085",
   "metadata": {},
   "outputs": [],
   "source": [
    "class whisper_training_dataset(torch.utils.data.Dataset):\n",
    "    def __init__(self, dataset, max_len):\n",
    "        self.dataset = dataset\n",
    "        self.max_len = max_len\n",
    "        self.bos_token = model.config.decoder_start_token_id\n",
    "\n",
    "    def __len__(self):\n",
    "        return len(self.dataset)\n",
    "\n",
    "    def __getitem__(self, idx):\n",
    "        item = self.dataset[idx]\n",
    "\n",
    "        audio_data = down_sample_audio(item['audio'][\"array\"], item['audio'][\"sampling_rate\"])\n",
    "        input_features = feature_extractor(audio_data, sampling_rate=16000,return_tensors='pt').input_features[0]\n",
    "\n",
    "        # Process the transcription\n",
    "        transcription = item[\"sentence\"]\n",
    "\n",
    "        # Create labels\n",
    "        labels = tokenizer(transcription, padding=\"max_length\", max_length=self.max_len, truncation=True, return_tensors=\"pt\")\n",
    "        labels = labels[\"input_ids\"].masked_fill(labels['attention_mask'].ne(1), -100)\n",
    "        labels = labels[0][1:]\n",
    "\n",
    "\n",
    "        return {\n",
    "            \"input_features\": input_features,\n",
    "            \"labels\": labels\n",
    "        }"
   ]
  },
  {
   "cell_type": "code",
   "execution_count": 26,
   "id": "969ac826",
   "metadata": {},
   "outputs": [],
   "source": [
    "dataset = whisper_training_dataset(dataset=train_data, max_len=300)\n",
    "\n",
    "train_dataloader = torch.utils.data.DataLoader(\n",
    "    dataset,\n",
    "    batch_size=8,  # Adjust batch size as needed\n",
    "    shuffle=True,  # Shuffle data during training\n",
    ")"
   ]
  },
  {
   "cell_type": "code",
   "execution_count": 30,
   "id": "553b3375",
   "metadata": {},
   "outputs": [],
   "source": [
    "def evaluation(model):\n",
    "\n",
    "    device='cuda'\n",
    "\n",
    "    test_dataset = whisper_training_dataset(dataset=test_data, max_len=300)\n",
    "\n",
    "    test_dataloader = torch.utils.data.DataLoader(\n",
    "        test_dataset,\n",
    "        batch_size=8,  # Adjust batch size as needed\n",
    "        shuffle=True,  # Shuffle data during training\n",
    "    )\n",
    "\n",
    "    model.eval()\n",
    "\n",
    "    predictions=[]\n",
    "    references=[]\n",
    "\n",
    "    for batch in tqdm(test_dataloader,total=len(test_dataloader)):\n",
    "\n",
    "        model.train()  # Set model to training mode\n",
    "\n",
    "        input_features, labels = batch[\"input_features\"].to(device), batch[\"labels\"].to(device)\n",
    "\n",
    "        with torch.no_grad():\n",
    "            generated_tokens = model.generate(input_features=input_features,language='arabic', task='transcribe')\n",
    "                        \n",
    "        decoded_preds = tokenizer.batch_decode(generated_tokens, skip_special_tokens=True)\n",
    "        decoded_labels = tokenizer.batch_decode(labels, skip_special_tokens=True)\n",
    "        predictions.extend(decoded_preds)\n",
    "        references.extend(decoded_labels)\n",
    "\n",
    "    WER = wer.compute(predictions=predictions, references=references) * 100\n",
    "\n",
    "    return WER"
   ]
  },
  {
   "cell_type": "code",
   "execution_count": null,
   "id": "76d4e5d9",
   "metadata": {},
   "outputs": [],
   "source": [
    "# WER before the training\n",
    "torch.cuda.empty_cache()\n",
    "evaluation(model)"
   ]
  },
  {
   "cell_type": "code",
   "execution_count": null,
   "id": "0db64915",
   "metadata": {},
   "outputs": [],
   "source": [
    "from IPython.display import clear_output\n",
    "torch.cuda.empty_cache()\n",
    "\n",
    "model.train()\n",
    "\n",
    "device='cuda'\n",
    "\n",
    "optimizer=torch.optim.AdamW(model.parameters(), lr=1e-5)\n",
    "# optimizer=torch.optim.AdamW(requires_grad_params, lr=5e-4) # Only for LoRA Training\n",
    "\n",
    "max_epochs=2\n",
    "\n",
    "\n",
    "running_wer=[]\n",
    "running_loss=[]\n",
    "\n",
    "\n",
    "\n",
    "for epoch in range(max_epochs):\n",
    "\n",
    "    for batch in tqdm(train_dataloader,total=len(train_dataloader),leave=False):\n",
    "\n",
    "        model.train()  # Set model to training mode\n",
    "\n",
    "        input_features, labels = batch[\"input_features\"].to(device), batch[\"labels\"].to(device)\n",
    "\n",
    "        # Forward pass\n",
    "        outputs = model(input_features, labels=labels)  # Assuming your model takes these inputs\n",
    "        loss = outputs.loss\n",
    "\n",
    "        # Backward pass and optimization\n",
    "        loss.backward()\n",
    "        optimizer.step()\n",
    "        optimizer.zero_grad()  # Reset gradients\n",
    "\n",
    "        running_loss.append(loss.item())\n",
    "\n",
    "        if len(running_loss) % 50 ==0:  # Print loss every 50 batches\n",
    "            plt.plot(running_loss)\n",
    "            plt.xlabel('steps')\n",
    "            plt.ylabel('loss')\n",
    "            clear_output(wait=True)  # Clear the output to keep the plot clean\n",
    "            plt.show()\n",
    "\n",
    "        if len(running_loss) % 100 == 0:  # Save model every 100 steps\n",
    "            # torch.save(model.state_dict(), f'finetuned_on_odia_steps_{len(running_loss)}.pth')\n",
    "            model.save_pretrained('lora_model')\n",
    "\n",
    "    torch.cuda.empty_cache()\n",
    "    running_wer.append(evaluation(model))"
   ]
  },
  {
   "cell_type": "code",
   "execution_count": null,
   "id": "cb3dae98",
   "metadata": {},
   "outputs": [],
   "source": [
    "model.load_state_dict(torch.load('finetuned_on_odia_steps_1000.pth', weights_only=True))# loading the model\n",
    "model.eval()\n",
    "model.to('cuda')\n",
    "\n",
    "\n",
    "torch.cuda.empty_cache()\n",
    "evaluation(model)"
   ]
  },
  {
   "cell_type": "code",
   "execution_count": null,
   "id": "b713a672",
   "metadata": {},
   "outputs": [],
   "source": [
    "model.eval()\n",
    "\n",
    "test_data = load_dataset(\"mozilla-foundation/common_voice_17_0\", \"ar\", split=\"test\")\n",
    "\n",
    "for idx in range(5):\n",
    "\n",
    "    target = test_data[idx]['sentence']\n",
    "    audio_original = test_data[idx]['audio']['array']\n",
    "    original_sample_rate = test_data[idx]['audio']['sampling_rate']\n",
    "\n",
    "    audio_16000 = down_sample_audio(audio_original, original_sample_rate)\n",
    "\n",
    "    input_feature = feature_extractor(raw_speech=audio_16000,\n",
    "                                    sampling_rate=16000,\n",
    "                                    return_tensors='pt').input_features\n",
    "\n",
    "    with torch.no_grad():\n",
    "        op = model.generate(input_feature.to('cuda'), language='arabic', task='transcribe')\n",
    "\n",
    "\n",
    "    text_pred =  tokenizer.batch_decode(op,skip_special_tokens=True )[0]\n",
    "\n",
    "    print(f'-------{idx}------')\n",
    "    print(f'true : {target} \\npred : {text_pred}')\n",
    "    print('\\n ')"
   ]
  }
 ],
 "metadata": {
  "kernelspec": {
   "display_name": "venv",
   "language": "python",
   "name": "python3"
  },
  "language_info": {
   "codemirror_mode": {
    "name": "ipython",
    "version": 3
   },
   "file_extension": ".py",
   "mimetype": "text/x-python",
   "name": "python",
   "nbconvert_exporter": "python",
   "pygments_lexer": "ipython3",
   "version": "3.13.3"
  }
 },
 "nbformat": 4,
 "nbformat_minor": 5
}
